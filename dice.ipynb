{
 "cells": [
  {
   "cell_type": "code",
   "execution_count": 6,
   "id": "58665a29",
   "metadata": {},
   "outputs": [
    {
     "name": "stdout",
     "output_type": "stream",
     "text": [
      "DICE STIMULATOR\n",
      "---------\n",
      "|   0   |\n",
      "|   0   |\n",
      "|   0   |\n",
      "---------\n",
      "3\n"
     ]
    }
   ],
   "source": [
    "\"\"\" DICE STIMULATOR \"\"\"\n",
    "\n",
    "import random\n",
    "num= random.randint(1,6)\n",
    "print(\"DICE STIMULATOR\")\n",
    "\n",
    "\n",
    "if num == 1:\n",
    "    print(\"---------\")\n",
    "    print(\"|       |\")\n",
    "    print(\"|   0   |\")\n",
    "    print(\"|       |\")\n",
    "    print(\"---------\")\n",
    "    \n",
    "if num == 2:\n",
    "    print(\"---------\")\n",
    "    print(\"|       |\")\n",
    "    print(\"|  0 0  |\")\n",
    "    print(\"|       |\")\n",
    "    print(\"---------\")\n",
    "\n",
    "if num == 3:\n",
    "    print(\"---------\")\n",
    "    print(\"|   0   |\")\n",
    "    print(\"|   0   |\")\n",
    "    print(\"|   0   |\")\n",
    "    print(\"---------\")\n",
    "\n",
    "if num == 4:\n",
    "    print(\"---------\")\n",
    "    print(\"| 0   0 |\")\n",
    "    print(\"|       |\")\n",
    "    print(\"| 0   0 |\")\n",
    "    print(\"---------\")\n",
    "if num == 5:\n",
    "    print(\"---------\")\n",
    "    print(\"|0     0|\")\n",
    "    print(\"|   0   |\")\n",
    "    print(\"|0     0|\")\n",
    "    print(\"---------\")\n",
    "if num == 6:\n",
    "    print(\"---------\")\n",
    "    print(\"|0     0|\")\n",
    "    print(\"|0     0|\")\n",
    "    print(\"|0     0|\")\n",
    "    print(\"---------\")    \n",
    "    \n",
    "    \n",
    "print(num)\n"
   ]
  }
 ],
 "metadata": {
  "kernelspec": {
   "display_name": "Python 3",
   "language": "python",
   "name": "python3"
  },
  "language_info": {
   "codemirror_mode": {
    "name": "ipython",
    "version": 3
   },
   "file_extension": ".py",
   "mimetype": "text/x-python",
   "name": "python",
   "nbconvert_exporter": "python",
   "pygments_lexer": "ipython3",
   "version": "3.8.8"
  }
 },
 "nbformat": 4,
 "nbformat_minor": 5
}
